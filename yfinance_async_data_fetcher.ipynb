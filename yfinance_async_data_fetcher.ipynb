{
 "cells": [
  {
   "cell_type": "markdown",
   "metadata": {},
   "source": [
    "## Yfinance data fetcher Async\n",
    "    Matheus Laidler\n",
    "\n",
    "A biblioteca yfinance é muito útil, mas para quem visa buscar dados de inúmeros ativos simultaneamente, pode ser meio lento. O que ocorre é que a biblioteca yfinance é sincrono, o que faz com que cada request dependa da resposta chegar ao nosso computador antes de ser inicializada. Aqui desenvolvo uma versão assíncrona, para que possamos buscar dados de forma paralela, o que acelera muito a velocidade do nosso código."
   ]
  },
  {
   "cell_type": "code",
   "execution_count": 1,
   "metadata": {},
   "outputs": [],
   "source": [
    "import numpy as np\n",
    "import pandas as pd\n",
    "import math\n",
    "import matplotlib.pyplot as plt\n",
    "import time\n",
    "import multiprocessing as mp\n",
    "import scipy.stats as stats\n",
    "from scipy.stats import norm\n",
    "from scipy.stats import poisson\n",
    "from scipy.optimize import curve_fit"
   ]
  },
  {
   "cell_type": "code",
   "execution_count": 18,
   "metadata": {},
   "outputs": [],
   "source": [
    "import asyncio\n",
    "import aiohttp\n",
    "from io import StringIO\n",
    "import datetime as dt\n",
    "from dateutil.relativedelta import relativedelta\n",
    "from pytz import utc\n",
    "\n",
    "class yfinance_async:\n",
    "    \"\"\"\n",
    "    Asynchronous class for fetching historical financial data from Yahoo Finance.\n",
    "\n",
    "    This class enables asynchronous fetching of financial data for a specified ticker symbol.\n",
    "\n",
    "    Args:\n",
    "        ticker (str): The ticker symbol for the asset of interest. The ticker is different then the one the show on the website,\n",
    "        its necessary to get the url of the download button the verify it.\n",
    "\n",
    "    Attributes:\n",
    "        ticker (str): The ticker symbol associated with the asset.\n",
    "        base_url (str): The base URL used to construct the API endpoint for data retrieval.\n",
    "        header (dict): HTTP headers to be included in the API request, preventing eventual bot interruption.\n",
    "        params (dict): Parameters to customize the data retrieval (e.g., time interval).\n",
    "\n",
    "    Methods:\n",
    "        async def fetch(self):\n",
    "            Asynchronously fetches raw data from the Yahoo Finance API.\n",
    "\n",
    "        async def get_data(self):\n",
    "            Asynchronously retrieves and parses data into a pandas DataFrame.\n",
    "\n",
    "    Usage:\n",
    "        ticker = 'AAPL'\n",
    "        yf = yfinance_async(ticker)\n",
    "        df = await yf.get_data()\n",
    "    \"\"\"\n",
    "\n",
    "    def __init__(self):\n",
    "        self.base_url = f\"https://query1.finance.yahoo.com/v7/finance/download/\"\n",
    "        self.header = {\n",
    "            \"User-Agent\": \"Mozilla/5.0 (Windows NT 10.0; Win64; x64) AppleWebKit/537.36 (KHTML, like Gecko) Chrome/110.0.0.0 Safari/537.36 Edg/110.0.1587.57\"\n",
    "        }\n",
    "        self.params = {\n",
    "            \"period1\": int(\n",
    "                (dt.datetime.now(tz=utc) - relativedelta(years=40)).timestamp()\n",
    "            ),  # Default: fetch real time -> 1day data\n",
    "            \"period2\": int(dt.datetime.now(tz=utc).timestamp()),\n",
    "            \"interval\": \"1d\",\n",
    "            \"events\": \"history\",\n",
    "        }\n",
    "\n",
    "    async def fetch(self, ticker: str):\n",
    "        url = f\"{self.base_url}{ticker}?\"\n",
    "        async with aiohttp.ClientSession() as session:\n",
    "            async with session.get(\n",
    "                url, params=self.params, headers=self.header\n",
    "            ) as response:\n",
    "                return await response.text()\n",
    "\n",
    "    async def get_data(self, ticker: str):\n",
    "        response_text = await self.fetch(ticker=ticker)\n",
    "        df = pd.read_csv(StringIO(response_text))\n",
    "        return df"
   ]
  },
  {
   "cell_type": "code",
   "execution_count": 22,
   "metadata": {},
   "outputs": [],
   "source": [
    "yahoo_data = yfinance_async()"
   ]
  },
  {
   "cell_type": "code",
   "execution_count": 25,
   "metadata": {},
   "outputs": [],
   "source": [
    "df = await yahoo_data.get_data(ticker = 'BTC')"
   ]
  },
  {
   "cell_type": "code",
   "execution_count": null,
   "metadata": {},
   "outputs": [],
   "source": []
  }
 ],
 "metadata": {
  "kernelspec": {
   "display_name": "Python 3 (ipykernel)",
   "language": "python",
   "name": "python3"
  },
  "language_info": {
   "codemirror_mode": {
    "name": "ipython",
    "version": 3
   },
   "file_extension": ".py",
   "mimetype": "text/x-python",
   "name": "python",
   "nbconvert_exporter": "python",
   "pygments_lexer": "ipython3",
   "version": "3.12.4"
  }
 },
 "nbformat": 4,
 "nbformat_minor": 4
}
