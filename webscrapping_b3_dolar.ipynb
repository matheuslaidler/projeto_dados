{
 "cells": [
  {
   "cell_type": "markdown",
   "metadata": {},
   "source": [
    "## Webscrapping do dólar pela B3\n",
    "    Matheus Laidler\n",
    "\n",
    "Não conheço nenhuma api da B3 em que eu possa buscar a cotação do dólar em tempo real. No entanto, podemos buscar essa informação direto pelo site deles. Essa informação é atualizada durante o dia, de forma que precisamos verificar a data de atualização da cotação."
   ]
  },
  {
   "cell_type": "code",
   "execution_count": 7,
   "metadata": {},
   "outputs": [],
   "source": [
    "import numpy as np\n",
    "import pandas as pd\n",
    "import math\n",
    "import matplotlib.pyplot as plt\n",
    "import time\n",
    "import multiprocessing as mp\n",
    "import scipy.stats as stats\n",
    "from scipy.stats import norm\n",
    "from scipy.stats import poisson\n",
    "from scipy.optimize import curve_fit"
   ]
  },
  {
   "cell_type": "code",
   "execution_count": 8,
   "metadata": {},
   "outputs": [],
   "source": [
    "from selenium.webdriver.common.by import By\n",
    "from selenium.webdriver.support.ui import WebDriverWait\n",
    "from selenium.webdriver.support import expected_conditions as EC\n",
    "from selenium import webdriver\n",
    "from selenium.webdriver.firefox.service import Service as FirefoxService\n",
    "from webdriver_manager.firefox import GeckoDriverManager\n",
    "\n",
    "def bot_b3_dolar_fetch():\n",
    "    driver = webdriver.Firefox( service=FirefoxService(GeckoDriverManager().install())\n",
    ")#nosso bot que irá abrir o navegador e procurar os sites\n",
    "    url = \"https://www.b3.com.br/pt_br/market-data-e-indices/servicos-de-dados/market-data/consultas/clearing-de-cambio/indicadores/taxas-de-cambio-referencial/\"\n",
    "    driver.get(url)\n",
    "    time.sleep(3) #Python é mais rapido que o carregamento dos dados\n",
    "    botao_aceitar_cookies = driver.find_element(\"xpath\", '''/html/body/div[4]/div[3]/div/div[1]/div/div[2]/div/button[3]''')\n",
    "    ##clicar\n",
    "    driver.execute_script(\"arguments[0].click()\", botao_aceitar_cookies)\n",
    "    # Precisa mudar o foco pro iframe de onde está a cotação:\n",
    "    # Aguarda até que o iframe esteja presente e muda o contexto para ele\n",
    "    iframe = WebDriverWait(driver, 10).until(\n",
    "        EC.presence_of_element_located((By.ID, \"bvmf_iframe\"))\n",
    "    )\n",
    "    driver.switch_to.frame(iframe)\n",
    "\n",
    "    # Agora, dentro do contexto do iframe, localize o elemento desejado\n",
    "    cot_dolar = WebDriverWait(driver, 10).until(\n",
    "        EC.presence_of_element_located((By.XPATH, \"//h4[@class='mb-0']\"))\n",
    "    ).text\n",
    "\n",
    "    cot_dolar = float(cot_dolar.split(' ')[0].replace(',', '.'))\n",
    "\n",
    "    data_att = driver.find_element(\"xpath\", '''\n",
    "    /html/body/app-root/app-rates/div/form/div/div/div/div/div/div[2]/div[3]/p\n",
    "    ''').get_attribute('outerHTML').split(' ')[-1].split('<')[0]\n",
    "\n",
    "    return cot_dolar, data_att"
   ]
  },
  {
   "cell_type": "code",
   "execution_count": 9,
   "metadata": {},
   "outputs": [],
   "source": [
    "cot_dolar, dia = bot_b3_dolar_fetch()"
   ]
  },
  {
   "cell_type": "code",
   "execution_count": 10,
   "metadata": {},
   "outputs": [
    {
     "data": {
      "text/plain": [
       "5.6517"
      ]
     },
     "execution_count": 10,
     "metadata": {},
     "output_type": "execute_result"
    }
   ],
   "source": [
    "cot_dolar"
   ]
  },
  {
   "cell_type": "code",
   "execution_count": 11,
   "metadata": {},
   "outputs": [
    {
     "data": {
      "text/plain": [
       "'10/09/2024'"
      ]
     },
     "execution_count": 11,
     "metadata": {},
     "output_type": "execute_result"
    }
   ],
   "source": [
    "dia"
   ]
  },
  {
   "cell_type": "code",
   "execution_count": null,
   "metadata": {},
   "outputs": [],
   "source": []
  }
 ],
 "metadata": {
  "kernelspec": {
   "display_name": "Python 3 (ipykernel)",
   "language": "python",
   "name": "python3"
  },
  "language_info": {
   "codemirror_mode": {
    "name": "ipython",
    "version": 3
   },
   "file_extension": ".py",
   "mimetype": "text/x-python",
   "name": "python",
   "nbconvert_exporter": "python",
   "pygments_lexer": "ipython3",
   "version": "3.12.3"
  }
 },
 "nbformat": 4,
 "nbformat_minor": 4
}
